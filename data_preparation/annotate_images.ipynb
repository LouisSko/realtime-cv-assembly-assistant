{
 "cells": [
  {
   "cell_type": "code",
   "execution_count": 108,
   "outputs": [],
   "source": [
    "from ultralytics import YOLO\n",
    "import cv2\n",
    "from remove_exif import remove_exif\n",
    "from convert_imagefiles import convert_image_to_jpeg\n",
    "import os\n",
    "import numpy as np\n",
    "from convert_yolo import save_yolo_file\n",
    "from check_bb_for_images import check_images"
   ],
   "metadata": {
    "collapsed": false,
    "ExecuteTime": {
     "end_time": "2023-06-03T12:54:11.722016Z",
     "start_time": "2023-06-03T12:54:11.712878Z"
    }
   }
  },
  {
   "cell_type": "code",
   "execution_count": 2,
   "outputs": [
    {
     "name": "stderr",
     "output_type": "stream",
     "text": [
      "100%|██████████| 4/4 [00:00<00:00,  8.52it/s]\n"
     ]
    }
   ],
   "source": [
    "# convert images if necessary\n",
    "image_dir = '/Users/louis.skowronek/Downloads/test_images'\n",
    "jpeg_dir = '/Users/louis.skowronek/Downloads/test_images'\n",
    "convert_image_to_jpeg(image_dir, jpeg_dir)"
   ],
   "metadata": {
    "collapsed": false,
    "ExecuteTime": {
     "end_time": "2023-06-03T12:16:09.133252Z",
     "start_time": "2023-06-03T12:16:08.639529Z"
    }
   }
  },
  {
   "cell_type": "code",
   "execution_count": 3,
   "outputs": [
    {
     "name": "stdout",
     "output_type": "stream",
     "text": [
      "No EXIF data found.\n",
      "No EXIF data found.\n",
      "No EXIF data found.\n",
      "No EXIF data found.\n"
     ]
    }
   ],
   "source": [
    "# remove exif data if necessarg\n",
    "df_img = remove_exif(dir_images='/Users/louis.skowronek/Downloads/test_images')"
   ],
   "metadata": {
    "collapsed": false,
    "ExecuteTime": {
     "end_time": "2023-06-03T12:16:14.663223Z",
     "start_time": "2023-06-03T12:16:14.653755Z"
    }
   }
  },
  {
   "cell_type": "code",
   "execution_count": 11,
   "outputs": [],
   "source": [
    "# load a pretrained model\n",
    "model = YOLO(\"/Users/louis.skowronek/Downloads/test/yolov8n_custom/weights/best.pt\")"
   ],
   "metadata": {
    "collapsed": false,
    "ExecuteTime": {
     "end_time": "2023-06-03T12:21:06.393869Z",
     "start_time": "2023-06-03T12:21:06.332864Z"
    }
   }
  },
  {
   "cell_type": "code",
   "execution_count": 104,
   "outputs": [],
   "source": [
    "# specify directories\n",
    "dir_images = '/Users/louis.skowronek/Downloads/test_images/images'\n",
    "dir_annot_files = '/Users/louis.skowronek/Downloads/test_images/labels'"
   ],
   "metadata": {
    "collapsed": false,
    "ExecuteTime": {
     "end_time": "2023-06-03T12:52:28.653228Z",
     "start_time": "2023-06-03T12:52:28.648327Z"
    }
   }
  },
  {
   "cell_type": "code",
   "execution_count": 105,
   "outputs": [],
   "source": [
    "# read in files\n",
    "image_extensions = [\".jpg\", \".jpeg\", \".png\", \".gif\", \".heic\"]\n",
    "images_files = [file for file in os.listdir(dir_images) if os.path.isfile(os.path.join(dir_images, file)) and any(\n",
    "file.lower().endswith(ext) for ext in image_extensions)]"
   ],
   "metadata": {
    "collapsed": false,
    "ExecuteTime": {
     "end_time": "2023-06-03T12:52:28.924098Z",
     "start_time": "2023-06-03T12:52:28.917207Z"
    }
   }
  },
  {
   "cell_type": "code",
   "execution_count": 106,
   "outputs": [
    {
     "name": "stderr",
     "output_type": "stream",
     "text": [
      "\n",
      "0: 640x480 1 grey1, 1 black1, 1 black2, 1 white1, 2 white2s, 156.9ms\n",
      "Speed: 12.7ms preprocess, 156.9ms inference, 2.0ms postprocess per image at shape (1, 3, 640, 640)\n",
      "\n",
      "0: 640x480 2 grey1s, 1 grey2, 1 grey4, 1 grey5, 2 white1s, 1 white2, 1 wheel, 1 wire, 170.6ms\n",
      "Speed: 3.2ms preprocess, 170.6ms inference, 0.8ms postprocess per image at shape (1, 3, 640, 640)\n",
      "\n",
      "0: 640x480 1 grey1, 1 white1, 1 white2, 1 wheel, 108.1ms\n",
      "Speed: 8.2ms preprocess, 108.1ms inference, 0.8ms postprocess per image at shape (1, 3, 640, 640)\n",
      "\n",
      "0: 640x480 1 grey2, 1 grey4, 1 grey5, 75.3ms\n",
      "Speed: 2.5ms preprocess, 75.3ms inference, 0.5ms postprocess per image at shape (1, 3, 640, 640)\n",
      "\n",
      "0: 640x480 1 grey1, 1 black3, 1 red1, 1 blue1, 2 blue2s, 55.5ms\n",
      "Speed: 2.1ms preprocess, 55.5ms inference, 0.4ms postprocess per image at shape (1, 3, 640, 640)\n",
      "\n",
      "0: 640x480 1 red1, 2 red2s, 2 blue2s, 60.5ms\n",
      "Speed: 2.8ms preprocess, 60.5ms inference, 0.4ms postprocess per image at shape (1, 3, 640, 640)\n",
      "\n",
      "0: 640x480 1 blue1, 1 blue2, 1 white3, 1 wheel, 66.5ms\n",
      "Speed: 2.4ms preprocess, 66.5ms inference, 0.5ms postprocess per image at shape (1, 3, 640, 640)\n",
      "\n",
      "0: 640x480 1 grey1, 1 grey2, 1 grey4, 1 grey5, 1 white1, 1 wheel, 57.7ms\n",
      "Speed: 2.1ms preprocess, 57.7ms inference, 0.4ms postprocess per image at shape (1, 3, 640, 640)\n",
      "\n",
      "0: 480x640 2 grey1s, 1 grey2, 1 grey4, 1 grey5, 3 wires, 58.5ms\n",
      "Speed: 2.1ms preprocess, 58.5ms inference, 0.5ms postprocess per image at shape (1, 3, 640, 640)\n",
      "\n",
      "0: 640x480 2 grey1s, 1 white1, 2 white2s, 55.6ms\n",
      "Speed: 2.5ms preprocess, 55.6ms inference, 0.4ms postprocess per image at shape (1, 3, 640, 640)\n",
      "\n",
      "0: 640x480 1 grey1, 1 grey2, 1 grey4, 1 grey5, 1 white1, 1 white2, 1 wheel, 3 wires, 58.5ms\n",
      "Speed: 2.5ms preprocess, 58.5ms inference, 0.4ms postprocess per image at shape (1, 3, 640, 640)\n",
      "\n",
      "0: 640x480 1 grey4, 1 grey5, 1 blue1, 2 blue2s, 63.7ms\n",
      "Speed: 2.1ms preprocess, 63.7ms inference, 0.4ms postprocess per image at shape (1, 3, 640, 640)\n",
      "\n",
      "0: 640x480 1 grey1, 1 white1, 1 white2, 1 wheel, 1 wire, 63.2ms\n",
      "Speed: 2.3ms preprocess, 63.2ms inference, 0.5ms postprocess per image at shape (1, 3, 640, 640)\n",
      "\n",
      "0: 640x480 1 grey1, 2 grey2s, 1 grey4, 1 grey5, 55.7ms\n",
      "Speed: 2.1ms preprocess, 55.7ms inference, 0.4ms postprocess per image at shape (1, 3, 640, 640)\n",
      "\n",
      "0: 480x640 1 grey1, 1 white1, 1 white3, 61.4ms\n",
      "Speed: 2.1ms preprocess, 61.4ms inference, 0.5ms postprocess per image at shape (1, 3, 640, 640)\n",
      "\n",
      "0: 640x480 1 grey1, 1 white1, 1 white2, 2 wheels, 59.3ms\n",
      "Speed: 2.0ms preprocess, 59.3ms inference, 0.4ms postprocess per image at shape (1, 3, 640, 640)\n",
      "\n",
      "0: 640x480 2 grey1s, 1 grey2, 1 grey4, 1 grey5, 1 white1, 86.1ms\n",
      "Speed: 2.2ms preprocess, 86.1ms inference, 0.5ms postprocess per image at shape (1, 3, 640, 640)\n",
      "\n",
      "0: 640x480 1 grey1, 1 grey4, 1 grey5, 2 red2s, 1 blue1, 2 blue2s, 1 wheel, 56.1ms\n",
      "Speed: 2.9ms preprocess, 56.1ms inference, 0.5ms postprocess per image at shape (1, 3, 640, 640)\n",
      "\n",
      "0: 640x480 2 grey1s, 2 black1s, 1 white1, 1 white2, 61.1ms\n",
      "Speed: 3.2ms preprocess, 61.1ms inference, 0.4ms postprocess per image at shape (1, 3, 640, 640)\n",
      "\n",
      "0: 640x480 1 grey1, 1 grey2, 1 grey4, 1 grey5, 2 white1s, 1 white2, 1 wheel, 1 wire, 56.9ms\n",
      "Speed: 2.8ms preprocess, 56.9ms inference, 0.4ms postprocess per image at shape (1, 3, 640, 640)\n",
      "\n",
      "0: 640x480 1 black2, 2 black3s, 1 wheel, 7 wires, 61.1ms\n",
      "Speed: 2.1ms preprocess, 61.1ms inference, 0.5ms postprocess per image at shape (1, 3, 640, 640)\n",
      "\n",
      "0: 640x480 1 grey2, 1 grey4, 1 grey5, 1 blue1, 1 white3, 1 wheel, 55.7ms\n",
      "Speed: 2.2ms preprocess, 55.7ms inference, 0.6ms postprocess per image at shape (1, 3, 640, 640)\n",
      "\n",
      "0: 640x480 2 grey1s, 1 grey2, 1 grey4, 1 white1, 3 wires, 56.6ms\n",
      "Speed: 2.2ms preprocess, 56.6ms inference, 0.5ms postprocess per image at shape (1, 3, 640, 640)\n",
      "\n",
      "0: 640x480 1 grey1, 2 grey2s, 1 grey4, 1 grey5, 1 white2, 1 wheel, 66.4ms\n",
      "Speed: 2.2ms preprocess, 66.4ms inference, 0.5ms postprocess per image at shape (1, 3, 640, 640)\n",
      "\n",
      "0: 640x480 2 grey2s, 1 grey4, 1 grey5, 1 white2, 2 wires, 55.7ms\n",
      "Speed: 2.0ms preprocess, 55.7ms inference, 0.4ms postprocess per image at shape (1, 3, 640, 640)\n",
      "\n",
      "0: 640x480 1 red1, 2 red2s, 2 blue2s, 70.6ms\n",
      "Speed: 3.0ms preprocess, 70.6ms inference, 0.5ms postprocess per image at shape (1, 3, 640, 640)\n",
      "\n",
      "0: 640x480 1 grey2, 1 grey4, 1 grey5, 1 red2, 1 blue1, 1 blue2, 1 wheel, 55.3ms\n",
      "Speed: 2.9ms preprocess, 55.3ms inference, 0.4ms postprocess per image at shape (1, 3, 640, 640)\n",
      "\n",
      "0: 640x480 1 grey2, 1 grey4, 2 grey5s, 1 blue1, 57.5ms\n",
      "Speed: 3.3ms preprocess, 57.5ms inference, 0.4ms postprocess per image at shape (1, 3, 640, 640)\n",
      "\n",
      "0: 640x480 1 black3, 1 red1, 2 blue2s, 68.3ms\n",
      "Speed: 2.1ms preprocess, 68.3ms inference, 0.5ms postprocess per image at shape (1, 3, 640, 640)\n"
     ]
    }
   ],
   "source": [
    "# get annotations\n",
    "for file in images_files:\n",
    "    image_path = os.path.join(dir_images, file)\n",
    "    img = cv2.imread(image_path)\n",
    "    results = model(img)\n",
    "\n",
    "    # convert to yolo format\n",
    "    yolo_boxes = []\n",
    "\n",
    "    nr_boxes = len(results[0].boxes.cls)\n",
    "    for i in range(0,nr_boxes):\n",
    "        class_id = results[0].boxes.cls[i]\n",
    "        x_min_rel, y_min_rel, x_max_rel, y_max_rel = results[0].boxes.xyxyn[i]\n",
    "        width = x_max_rel - x_min_rel\n",
    "        height = y_max_rel - y_min_rel\n",
    "        x_center = x_min_rel + (width / 2)\n",
    "        y_center = y_min_rel + (height / 2)\n",
    "        yolo_boxes.append(\n",
    "                    [int(class_id.item()), np.round(x_center.item(), 6), np.round(y_center.item(), 6), np.round(width.item(), 6), np.round(height.item(), 6)])\n",
    "\n",
    "    annot_file = file.split('.')[0] + '.txt'\n",
    "    annot_file_path = os.path.join(dir_annot_files, annot_file)\n",
    "    save_yolo_file(annot_file_path, yolo_boxes)"
   ],
   "metadata": {
    "collapsed": false,
    "ExecuteTime": {
     "end_time": "2023-06-03T12:52:34.020219Z",
     "start_time": "2023-06-03T12:52:29.579668Z"
    }
   }
  },
  {
   "cell_type": "code",
   "execution_count": 113,
   "outputs": [
    {
     "name": "stdout",
     "output_type": "stream",
     "text": [
      "IMG_5901.jpeg\n"
     ]
    }
   ],
   "source": [
    "# check images\n",
    "dir_images = '/Users/louis.skowronek/Downloads/test_images/images'\n",
    "dir_annot = '/Users/louis.skowronek/Downloads/test_images/labels'\n",
    "\n",
    "check_images(dir_images, dir_annot, image_number=12, filename= None, replace=False, rotation_direction=0, width=10, show_image=True)"
   ],
   "metadata": {
    "collapsed": false,
    "ExecuteTime": {
     "end_time": "2023-06-03T12:56:15.855225Z",
     "start_time": "2023-06-03T12:56:12.795773Z"
    }
   }
  }
 ],
 "metadata": {
  "kernelspec": {
   "display_name": "Python 3",
   "language": "python",
   "name": "python3"
  },
  "language_info": {
   "codemirror_mode": {
    "name": "ipython",
    "version": 2
   },
   "file_extension": ".py",
   "mimetype": "text/x-python",
   "name": "python",
   "nbconvert_exporter": "python",
   "pygments_lexer": "ipython2",
   "version": "2.7.6"
  }
 },
 "nbformat": 4,
 "nbformat_minor": 0
}
