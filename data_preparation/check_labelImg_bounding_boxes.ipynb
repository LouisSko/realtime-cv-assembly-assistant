{
 "cells": [
  {
   "cell_type": "code",
   "execution_count": 2,
   "outputs": [],
   "source": [
    "from convert_jpg_to_png import convert_jpeg_to_png, convert_png_to_jpeg\n",
    "from check_bb_for_images import check_images"
   ],
   "metadata": {
    "collapsed": false,
    "ExecuteTime": {
     "end_time": "2023-05-17T21:10:27.362633Z",
     "start_time": "2023-05-17T21:10:27.360841Z"
    }
   }
  },
  {
   "cell_type": "code",
   "execution_count": 4,
   "outputs": [
    {
     "name": "stdout",
     "output_type": "stream",
     "text": [
      "Converted IMG_5519.jpeg to IMG_5519.png\n",
      "Converted IMG_5558.jpeg to IMG_5558.png\n",
      "Converted IMG_5466.jpeg to IMG_5466.png\n",
      "Converted IMG_5523.jpeg to IMG_5523.png\n",
      "Converted IMG_5489.jpeg to IMG_5489.png\n",
      "Converted IMG_5431.jpeg to IMG_5431.png\n",
      "Converted IMG_5574.jpeg to IMG_5574.png\n",
      "Converted IMG_5562.jpeg to IMG_5562.png\n",
      "Converted IMG_5470.jpeg to IMG_5470.png\n",
      "Converted IMG_5535.jpeg to IMG_5535.png\n",
      "Converted IMG_5542.jpeg to IMG_5542.png\n",
      "Converted IMG_5515.jpeg to IMG_5515.png\n",
      "Converted IMG_5450.jpeg to IMG_5450.png\n",
      "Converted IMG_5503.jpeg to IMG_5503.png\n",
      "Converted IMG_5446.jpeg to IMG_5446.png\n",
      "Converted IMG_5554.jpeg to IMG_5554.png\n",
      "Converted IMG_5606.jpeg to IMG_5606.png\n",
      "Converted IMG_5485.jpeg to IMG_5485.png\n",
      "Converted IMG_5597.jpeg to IMG_5597.png\n",
      "Converted IMG_5578.jpeg to IMG_5578.png\n",
      "Converted IMG_5581.jpeg to IMG_5581.png\n",
      "Converted IMG_5610.jpeg to IMG_5610.png\n",
      "Converted IMG_5539.jpeg to IMG_5539.png\n",
      "Converted IMG_5493.jpeg to IMG_5493.png\n",
      "Converted IMG_5538.jpeg to IMG_5538.png\n",
      "Converted IMG_5492.jpeg to IMG_5492.png\n",
      "Converted IMG_5611.jpeg to IMG_5611.png\n",
      "Converted IMG_5580.jpeg to IMG_5580.png\n",
      "Converted IMG_5596.jpeg to IMG_5596.png\n",
      "Converted IMG_5579.jpeg to IMG_5579.png\n",
      "Converted IMG_5484.jpeg to IMG_5484.png\n",
      "Converted IMG_5607.jpeg to IMG_5607.png\n",
      "Converted IMG_5555.jpeg to IMG_5555.png\n",
      "Converted IMG_5502.jpeg to IMG_5502.png\n",
      "Converted IMG_5447.jpeg to IMG_5447.png\n",
      "Converted IMG_5514.jpeg to IMG_5514.png\n",
      "Converted IMG_5451.jpeg to IMG_5451.png\n",
      "Converted IMG_5543.jpeg to IMG_5543.png\n",
      "Converted IMG_5534.jpeg to IMG_5534.png\n",
      "Converted IMG_5563.jpeg to IMG_5563.png\n",
      "Converted IMG_5430.jpeg to IMG_5430.png\n",
      "Converted IMG_5575.jpeg to IMG_5575.png\n",
      "Converted IMG_5467.jpeg to IMG_5467.png\n",
      "Converted IMG_5522.jpeg to IMG_5522.png\n",
      "Converted IMG_5488.jpeg to IMG_5488.png\n",
      "Converted IMG_5559.jpeg to IMG_5559.png\n",
      "Converted IMG_5518.jpeg to IMG_5518.png\n",
      "Converted IMG_5544.jpeg to IMG_5544.png\n",
      "Converted IMG_5513.jpeg to IMG_5513.png\n",
      "Converted IMG_5456.jpeg to IMG_5456.png\n",
      "Converted IMG_5505.jpeg to IMG_5505.png\n",
      "Converted IMG_5440.jpeg to IMG_5440.png\n",
      "Converted IMG_5552.jpeg to IMG_5552.png\n",
      "Converted IMG_5600.jpeg to IMG_5600.png\n",
      "Converted IMG_5483.jpeg to IMG_5483.png\n",
      "Converted IMG_5529.jpeg to IMG_5529.png\n",
      "Converted IMG_5591.jpeg to IMG_5591.png\n",
      "Converted IMG_5587.jpeg to IMG_5587.png\n",
      "Converted IMG_5568.jpeg to IMG_5568.png\n",
      "Converted IMG_5616.jpeg to IMG_5616.png\n",
      "Converted IMG_5495.jpeg to IMG_5495.png\n",
      "Converted IMG_5548.jpeg to IMG_5548.png\n",
      "Converted IMG_5509.jpeg to IMG_5509.png\n",
      "Converted IMG_5620.jpeg to IMG_5620.png\n",
      "Converted IMG_5460.jpeg to IMG_5460.png\n",
      "Converted IMG_5525.jpeg to IMG_5525.png\n",
      "Converted IMG_5437.jpeg to IMG_5437.png\n",
      "Converted IMG_5572.jpeg to IMG_5572.png\n",
      "Converted IMG_5564.jpeg to IMG_5564.png\n",
      "Converted IMG_5476.jpeg to IMG_5476.png\n",
      "Converted IMG_5499.jpeg to IMG_5499.png\n",
      "Converted IMG_5533.jpeg to IMG_5533.png\n",
      "Converted IMG_5477.jpeg to IMG_5477.png\n",
      "Converted IMG_5498.jpeg to IMG_5498.png\n",
      "Converted IMG_5532.jpeg to IMG_5532.png\n",
      "Converted IMG_5565.jpeg to IMG_5565.png\n",
      "Converted IMG_5436.jpeg to IMG_5436.png\n",
      "Converted IMG_5573.jpeg to IMG_5573.png\n",
      "Converted IMG_5461.jpeg to IMG_5461.png\n",
      "Converted IMG_5524.jpeg to IMG_5524.png\n",
      "Converted IMG_5621.jpeg to IMG_5621.png\n",
      "Converted IMG_5549.jpeg to IMG_5549.png\n",
      "Converted IMG_5494.jpeg to IMG_5494.png\n",
      "Converted IMG_5617.jpeg to IMG_5617.png\n",
      "Converted IMG_5586.jpeg to IMG_5586.png\n",
      "Converted IMG_5569.jpeg to IMG_5569.png\n",
      "Converted IMG_5590.jpeg to IMG_5590.png\n",
      "Converted IMG_5482.jpeg to IMG_5482.png\n",
      "Converted IMG_5528.jpeg to IMG_5528.png\n",
      "Converted IMG_5601.jpeg to IMG_5601.png\n",
      "Converted IMG_5553.jpeg to IMG_5553.png\n",
      "Converted IMG_5504.jpeg to IMG_5504.png\n",
      "Converted IMG_5441.jpeg to IMG_5441.png\n",
      "Converted IMG_5512.jpeg to IMG_5512.png\n",
      "Converted IMG_5457.jpeg to IMG_5457.png\n",
      "Converted IMG_5545.jpeg to IMG_5545.png\n",
      "Converted IMG_5497.jpeg to IMG_5497.png\n",
      "Converted IMG_5478.jpeg to IMG_5478.png\n",
      "Converted IMG_5614.jpeg to IMG_5614.png\n",
      "Converted IMG_5585.jpeg to IMG_5585.png\n",
      "Converted IMG_5439.jpeg to IMG_5439.png\n",
      "Converted IMG_5593.jpeg to IMG_5593.png\n",
      "Converted IMG_5481.jpeg to IMG_5481.png\n",
      "Converted IMG_5602.jpeg to IMG_5602.png\n",
      "Converted IMG_5550.jpeg to IMG_5550.png\n",
      "Converted IMG_5442.jpeg to IMG_5442.png\n",
      "Converted IMG_5507.jpeg to IMG_5507.png\n",
      "Converted IMG_5454.jpeg to IMG_5454.png\n",
      "Converted IMG_5511.jpeg to IMG_5511.png\n",
      "Converted IMG_5546.jpeg to IMG_5546.png\n",
      "Converted IMG_5618.jpeg to IMG_5618.png\n",
      "Converted IMG_5531.jpeg to IMG_5531.png\n",
      "Converted IMG_5474.jpeg to IMG_5474.png\n",
      "Converted IMG_5566.jpeg to IMG_5566.png\n",
      "Converted IMG_5589.jpeg to IMG_5589.png\n",
      "Converted IMG_5570.jpeg to IMG_5570.png\n",
      "Converted IMG_5435.jpeg to IMG_5435.png\n",
      "Converted IMG_5527.jpeg to IMG_5527.png\n",
      "Converted IMG_5462.jpeg to IMG_5462.png\n",
      "Converted IMG_5622.jpeg to IMG_5622.png\n",
      "Converted IMG_5458.jpeg to IMG_5458.png\n",
      "Converted IMG_5459.jpeg to IMG_5459.png\n",
      "Converted IMG_5623.jpeg to IMG_5623.png\n",
      "Converted IMG_5526.jpeg to IMG_5526.png\n",
      "Converted IMG_5463.jpeg to IMG_5463.png\n",
      "Converted IMG_5571.jpeg to IMG_5571.png\n",
      "Converted IMG_5434.jpeg to IMG_5434.png\n",
      "Converted IMG_5567.jpeg to IMG_5567.png\n",
      "Converted IMG_5588.jpeg to IMG_5588.png\n",
      "Converted IMG_5530.jpeg to IMG_5530.png\n",
      "Converted IMG_5475.jpeg to IMG_5475.png\n",
      "Converted IMG_5619.jpeg to IMG_5619.png\n",
      "Converted IMG_5547.jpeg to IMG_5547.png\n",
      "Converted IMG_5455.jpeg to IMG_5455.png\n",
      "Converted IMG_5510.jpeg to IMG_5510.png\n",
      "Converted IMG_5443.jpeg to IMG_5443.png\n",
      "Converted IMG_5506.jpeg to IMG_5506.png\n",
      "Converted IMG_5551.jpeg to IMG_5551.png\n",
      "Converted IMG_5603.jpeg to IMG_5603.png\n",
      "Converted IMG_5480.jpeg to IMG_5480.png\n",
      "Converted IMG_5438.jpeg to IMG_5438.png\n",
      "Converted IMG_5592.jpeg to IMG_5592.png\n",
      "Converted IMG_5584.jpeg to IMG_5584.png\n",
      "Converted IMG_5615.jpeg to IMG_5615.png\n",
      "Converted IMG_5496.jpeg to IMG_5496.png\n",
      "Converted IMG_5479.jpeg to IMG_5479.png\n",
      "Converted IMG_5537.jpeg to IMG_5537.png\n",
      "Converted IMG_5472.jpeg to IMG_5472.png\n",
      "Converted IMG_5560.jpeg to IMG_5560.png\n",
      "Converted IMG_5576.jpeg to IMG_5576.png\n",
      "Converted IMG_5599.jpeg to IMG_5599.png\n",
      "Converted IMG_5433.jpeg to IMG_5433.png\n",
      "Converted IMG_5608.jpeg to IMG_5608.png\n",
      "Converted IMG_5521.jpeg to IMG_5521.png\n",
      "Converted IMG_5464.jpeg to IMG_5464.png\n",
      "Converted IMG_5624.jpeg to IMG_5624.png\n",
      "Converted IMG_5448.jpeg to IMG_5448.png\n",
      "Converted IMG_5491.jpeg to IMG_5491.png\n",
      "Converted IMG_5612.jpeg to IMG_5612.png\n",
      "Converted IMG_5583.jpeg to IMG_5583.png\n",
      "Converted IMG_5595.jpeg to IMG_5595.png\n",
      "Converted IMG_5487.jpeg to IMG_5487.png\n",
      "Converted IMG_5468.jpeg to IMG_5468.png\n",
      "Converted IMG_5604.jpeg to IMG_5604.png\n",
      "Converted IMG_5556.jpeg to IMG_5556.png\n",
      "Converted IMG_5444.jpeg to IMG_5444.png\n",
      "Converted IMG_5501.jpeg to IMG_5501.png\n",
      "Converted IMG_5452.jpeg to IMG_5452.png\n",
      "Converted IMG_5517.jpeg to IMG_5517.png\n",
      "Converted IMG_5540.jpeg to IMG_5540.png\n",
      "Converted IMG_5541.jpeg to IMG_5541.png\n",
      "Converted IMG_5453.jpeg to IMG_5453.png\n",
      "Converted IMG_5516.jpeg to IMG_5516.png\n",
      "Converted IMG_5445.jpeg to IMG_5445.png\n",
      "Converted IMG_5500.jpeg to IMG_5500.png\n",
      "Converted IMG_5557.jpeg to IMG_5557.png\n",
      "Converted IMG_5605.jpeg to IMG_5605.png\n",
      "Converted IMG_5486.jpeg to IMG_5486.png\n",
      "Converted IMG_5469.jpeg to IMG_5469.png\n",
      "Converted IMG_5594.jpeg to IMG_5594.png\n",
      "Converted IMG_5582.jpeg to IMG_5582.png\n",
      "Converted IMG_5613.jpeg to IMG_5613.png\n",
      "Converted IMG_5490.jpeg to IMG_5490.png\n",
      "Converted IMG_5449.jpeg to IMG_5449.png\n",
      "Converted IMG_5625.jpeg to IMG_5625.png\n",
      "Converted IMG_5520.jpeg to IMG_5520.png\n",
      "Converted IMG_5465.jpeg to IMG_5465.png\n",
      "Converted IMG_5609.jpeg to IMG_5609.png\n",
      "Converted IMG_5577.jpeg to IMG_5577.png\n",
      "Converted IMG_5598.jpeg to IMG_5598.png\n",
      "Converted IMG_5432.jpeg to IMG_5432.png\n",
      "Converted IMG_5561.jpeg to IMG_5561.png\n",
      "Converted IMG_5536.jpeg to IMG_5536.png\n",
      "Converted IMG_5473.jpeg to IMG_5473.png\n",
      "Conversion complete.\n"
     ]
    }
   ],
   "source": [
    "# Convert jpegs to png\n",
    "jpeg_dir = '/Users/louis.skowronek/aiss_images/images'\n",
    "png_dir = '/Users/louis.skowronek/aiss_images/images'\n",
    "\n",
    "convert_jpeg_to_png (jpeg_dir, png_dir, drop_original=True)"
   ],
   "metadata": {
    "collapsed": false,
    "ExecuteTime": {
     "end_time": "2023-05-17T19:01:22.915069Z",
     "start_time": "2023-05-17T18:53:56.651947Z"
    }
   }
  },
  {
   "cell_type": "code",
   "execution_count": 3,
   "outputs": [
    {
     "name": "stderr",
     "output_type": "stream",
     "text": [
      "100%|██████████| 194/194 [00:43<00:00,  4.44it/s]\n"
     ]
    }
   ],
   "source": [
    "# Convert jpegs to png\n",
    "jpeg_dir = '/Users/louis.skowronek/aiss_images/images'\n",
    "png_dir = '/Users/louis.skowronek/aiss_images/images'\n",
    "\n",
    "convert_png_to_jpeg(png_dir, jpeg_dir, drop_original=True)"
   ],
   "metadata": {
    "collapsed": false
   }
  },
  {
   "cell_type": "code",
   "execution_count": 49,
   "outputs": [
    {
     "name": "stdout",
     "output_type": "stream",
     "text": [
      "IMG_5565.jpeg\n"
     ]
    }
   ],
   "source": [
    "# rotate images if necessary\n",
    "dir_images = '/Users/louis.skowronek/aiss_images/val/images'\n",
    "dir_annot = '/Users/louis.skowronek/aiss_images/val/labels'\n",
    "check_images(dir_images, dir_annot, image_number=9, replace=False, rotation_direction=0)"
   ],
   "metadata": {
    "collapsed": false,
    "ExecuteTime": {
     "end_time": "2023-05-17T22:10:57.024804Z",
     "start_time": "2023-05-17T22:10:56.818849Z"
    }
   }
  },
  {
   "cell_type": "code",
   "execution_count": null,
   "outputs": [],
   "source": [],
   "metadata": {
    "collapsed": false
   }
  }
 ],
 "metadata": {
  "kernelspec": {
   "display_name": "Python 3",
   "language": "python",
   "name": "python3"
  },
  "language_info": {
   "codemirror_mode": {
    "name": "ipython",
    "version": 2
   },
   "file_extension": ".py",
   "mimetype": "text/x-python",
   "name": "python",
   "nbconvert_exporter": "python",
   "pygments_lexer": "ipython2",
   "version": "2.7.6"
  }
 },
 "nbformat": 4,
 "nbformat_minor": 0
}
