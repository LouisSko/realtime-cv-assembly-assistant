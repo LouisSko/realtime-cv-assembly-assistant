{
 "cells": [
  {
   "cell_type": "markdown",
   "id": "62a877a1-add5-4c47-a1ff-0d042a4d4bbe",
   "metadata": {},
   "source": [
    "**TODO**\n",
    "\n",
    "- Dateien Splitten\n",
    "- Augmentieren auf Training\n",
    "- Downsampling\n",
    "- Pascal VOC\n",
    "- Neue Ordnerstruktur\n",
    "- Trainieren"
   ]
  },
  {
   "cell_type": "code",
   "execution_count": 12,
   "outputs": [],
   "source": [
    "import os\n",
    "import shutil\n",
    "from create_train_test_val import split_dataset\n",
    "from image_augmentation import image_augmentation\n",
    "from downsample_images import resize_images\n",
    "from yolo_to_voc import yolo_to_voc"
   ],
   "metadata": {
    "collapsed": false,
    "ExecuteTime": {
     "end_time": "2023-06-20T23:19:48.085797Z",
     "start_time": "2023-06-20T23:19:48.081060Z"
    }
   }
  },
  {
   "cell_type": "code",
   "execution_count": 4,
   "outputs": [
    {
     "ename": "FileNotFoundError",
     "evalue": "[Errno 2] No such file or directory: '/Users/louis.skowronek/AISS/aiss_images/images'",
     "output_type": "error",
     "traceback": [
      "\u001B[0;31m---------------------------------------------------------------------------\u001B[0m",
      "\u001B[0;31mFileNotFoundError\u001B[0m                         Traceback (most recent call last)",
      "Cell \u001B[0;32mIn[4], line 5\u001B[0m\n\u001B[1;32m      3\u001B[0m output_directory \u001B[38;5;241m=\u001B[39m \u001B[38;5;124m'\u001B[39m\u001B[38;5;124m/Users/louis.skowronek/AISS/aiss_images\u001B[39m\u001B[38;5;124m'\u001B[39m\n\u001B[1;32m      4\u001B[0m split_ratio \u001B[38;5;241m=\u001B[39m (\u001B[38;5;241m0.8\u001B[39m, \u001B[38;5;241m0.1\u001B[39m, \u001B[38;5;241m0.1\u001B[39m)\n\u001B[0;32m----> 5\u001B[0m \u001B[43msplit_dataset\u001B[49m\u001B[43m(\u001B[49m\u001B[43minput_directory\u001B[49m\u001B[43m,\u001B[49m\u001B[43m \u001B[49m\u001B[43moutput_directory\u001B[49m\u001B[43m,\u001B[49m\u001B[43m \u001B[49m\u001B[43msplit_ratio\u001B[49m\u001B[43m)\u001B[49m\n",
      "File \u001B[0;32m~/object-detection-project/data_preparation/create_train_test_val.py:19\u001B[0m, in \u001B[0;36msplit_dataset\u001B[0;34m(input_dir, output_dir, split_ratio)\u001B[0m\n\u001B[1;32m     16\u001B[0m os\u001B[38;5;241m.\u001B[39mmakedirs(val_dir, exist_ok\u001B[38;5;241m=\u001B[39m\u001B[38;5;28;01mTrue\u001B[39;00m)\n\u001B[1;32m     18\u001B[0m \u001B[38;5;66;03m# Get the list of images in the input directory\u001B[39;00m\n\u001B[0;32m---> 19\u001B[0m images \u001B[38;5;241m=\u001B[39m \u001B[43mos\u001B[49m\u001B[38;5;241;43m.\u001B[39;49m\u001B[43mlistdir\u001B[49m\u001B[43m(\u001B[49m\u001B[43mos\u001B[49m\u001B[38;5;241;43m.\u001B[39;49m\u001B[43mpath\u001B[49m\u001B[38;5;241;43m.\u001B[39;49m\u001B[43mjoin\u001B[49m\u001B[43m(\u001B[49m\u001B[43minput_dir\u001B[49m\u001B[43m,\u001B[49m\u001B[43m \u001B[49m\u001B[38;5;124;43m'\u001B[39;49m\u001B[38;5;124;43mimages\u001B[39;49m\u001B[38;5;124;43m'\u001B[39;49m\u001B[43m)\u001B[49m\u001B[43m)\u001B[49m\n\u001B[1;32m     21\u001B[0m \u001B[38;5;66;03m# Shuffle the images\u001B[39;00m\n\u001B[1;32m     22\u001B[0m random\u001B[38;5;241m.\u001B[39mshuffle(images)\n",
      "\u001B[0;31mFileNotFoundError\u001B[0m: [Errno 2] No such file or directory: '/Users/louis.skowronek/AISS/aiss_images/images'"
     ]
    }
   ],
   "source": [
    "# split dataset into train val test\n",
    "input_directory = '/Users/louis.skowronek/AISS/aiss_images'\n",
    "output_directory = '/Users/louis.skowronek/AISS/aiss_images'\n",
    "split_ratio = (0.8, 0.1, 0.1)\n",
    "split_dataset(input_directory, output_directory, split_ratio)"
   ],
   "metadata": {
    "collapsed": false,
    "ExecuteTime": {
     "end_time": "2023-06-20T23:04:35.776363Z",
     "start_time": "2023-06-20T23:04:35.734408Z"
    }
   }
  },
  {
   "cell_type": "code",
   "execution_count": null,
   "outputs": [],
   "source": [
    "# augment training images\n",
    "input_dir = '/Users/louis.skowronek/AISS/aiss_images/train'\n",
    "output_dir = '/Users/louis.skowronek/AISS/aiss_images/train'\n",
    "nr_of_augs = 10\n",
    "image_augmentation(input_dir, output_dir, nr_of_augs)"
   ],
   "metadata": {
    "collapsed": false
   }
  },
  {
   "cell_type": "code",
   "execution_count": null,
   "outputs": [],
   "source": [
    "# resize images\n",
    "input_directory_path_base = '/Users/louis.skowronek/AISS/aiss_images'\n",
    "output_directory_path_base = '/Users/louis.skowronek/AISS/aiss_images'\n",
    "\n",
    "# Target resolution (1080p)\n",
    "max_width = 1080\n",
    "max_height = 720\n",
    "\n",
    "# resize images in all three folders\n",
    "for folder in ['train', 'val', 'test']:\n",
    "    input_dir = os.path.join(input_directory_path_base, folder, 'images')\n",
    "    output_dir = os.path.join(output_directory_path_base, folder, 'images')\n",
    "    resize_images(input_dir, output_dir, max_width, max_height)"
   ],
   "metadata": {
    "collapsed": false
   }
  },
  {
   "cell_type": "code",
   "execution_count": 9,
   "outputs": [
    {
     "name": "stdout",
     "output_type": "stream",
     "text": [
      "Conversion complete\n",
      "Conversion complete\n",
      "Conversion complete\n"
     ]
    }
   ],
   "source": [
    "# in each folder create a folder XML containing the voc annotations (habe den folder umbenannt von voc_annotations zu XML um konsitent zu sein mit der Bezeichnung die CVAT für die Annotation verwendet)\n",
    "directory = '/Users/louis.skowronek/AISS/aiss_images/'\n",
    "\n",
    "for folder in ['train', 'val', 'test']:\n",
    "    directory_data = os.path.join(directory, folder)\n",
    "    dir_yolo_files = os.path.join(directory_data, 'labels')\n",
    "    dir_images = os.path.join(directory_data, 'images')\n",
    "    yolo_class_list_file = os.path.join(directory, 'classes.txt') # muss in dem Ordner abgelegt werden\n",
    "    yolo_to_voc(directory_data, dir_yolo_files, dir_images, yolo_class_list_file)"
   ],
   "metadata": {
    "collapsed": false,
    "ExecuteTime": {
     "end_time": "2023-06-20T23:14:53.436584Z",
     "start_time": "2023-06-20T23:14:50.802128Z"
    }
   }
  },
  {
   "cell_type": "code",
   "execution_count": 13,
   "id": "f3c987f4-4419-45be-b9a1-5e4dbed22f54",
   "metadata": {
    "tags": [],
    "ExecuteTime": {
     "end_time": "2023-06-20T23:19:55.331017Z",
     "start_time": "2023-06-20T23:19:54.016805Z"
    }
   },
   "outputs": [],
   "source": [
    "# copy the annotations into the correct directory and create the .txt files which store the information on train/test/val data\n",
    "\n",
    "# Define the paths for the three folders (train, val, test)\n",
    "train_folder = \"/Users/louis.skowronek/AISS/aiss_images/train/XML\"\n",
    "val_folder = \"/Users/louis.skowronek/AISS/aiss_images/val/XML\"\n",
    "test_folder = \"/Users/louis.skowronek/AISS/aiss_images/test/XML\"\n",
    "\n",
    "# Define the path for the output folder\n",
    "output_folder = \"/Users/louis.skowronek/AISS/aiss_images/lego2/Annotations\"\n",
    "imagesets_folder = \"/Users/louis.skowronek/AISS/aiss_images/lego2/ImageSets/Main\"\n",
    "\n",
    "# Create the output folder if it doesn't exist\n",
    "os.makedirs(output_folder, exist_ok=True)\n",
    "os.makedirs(imagesets_folder, exist_ok=True)\n",
    "\n",
    "# Initialize lists to store the filenames for each split\n",
    "train_filenames = []\n",
    "val_filenames = []\n",
    "test_filenames = []\n",
    "trainval_filenames = []\n",
    "\n",
    "# Process the val folder\n",
    "for filename in os.listdir(train_folder):\n",
    "    if filename.endswith(\".xml\"):\n",
    "        # Copy the XML file to the output folder\n",
    "        shutil.copy2(os.path.join(train_folder, filename), output_folder)\n",
    "        train_filenames.append(os.path.splitext(filename)[0])\n",
    "        trainval_filenames.append(os.path.splitext(filename)[0])\n",
    "        \n",
    "for filename in os.listdir(val_folder):\n",
    "    if filename.endswith(\".xml\"):\n",
    "        # Copy the XML file to the output folder\n",
    "        shutil.copy2(os.path.join(val_folder, filename), output_folder)\n",
    "        val_filenames.append(os.path.splitext(filename)[0])\n",
    "        trainval_filenames.append(os.path.splitext(filename)[0])\n",
    "        #print(os.path.splitext(filename)[0])\n",
    "# Process the test folder\n",
    "for filename in os.listdir(test_folder):\n",
    "    if filename.endswith(\".xml\"):\n",
    "        # Copy the XML file to the output folder\n",
    "        shutil.copy2(os.path.join(test_folder, filename), output_folder)\n",
    "        test_filenames.append(os.path.splitext(filename)[0])\n",
    "        #print(os.path.splitext(filename)[0])\n",
    "\n",
    "with open(os.path.join(imagesets_folder, \"train.txt\"), \"w\") as train_file:\n",
    "    train_file.write(\"\\n\".join(train_filenames))        \n",
    "        \n",
    "with open(os.path.join(imagesets_folder, \"val.txt\"), \"w\") as val_file:\n",
    "    val_file.write(\"\\n\".join(val_filenames))\n",
    "\n",
    "with open(os.path.join(imagesets_folder, \"test.txt\"), \"w\") as test_file:\n",
    "    test_file.write(\"\\n\".join(test_filenames))\n",
    "    \n",
    "with open(os.path.join(imagesets_folder, \"trainval.txt\"), \"w\") as trainval_file:\n",
    "    trainval_file.write(\"\\n\".join(trainval_filenames))"
   ]
  },
  {
   "cell_type": "code",
   "execution_count": 15,
   "id": "ed1899cb-ef51-4cac-a0e5-4bf80bc267fd",
   "metadata": {
    "ExecuteTime": {
     "end_time": "2023-06-20T23:23:48.517398Z",
     "start_time": "2023-06-20T23:23:45.866149Z"
    }
   },
   "outputs": [],
   "source": [
    "# copy the image files into the JPEGImages directory\n",
    "\n",
    "# Define the paths for the three folders (train, val, test)\n",
    "train_folder = \"/Users/louis.skowronek/AISS/aiss_images/train/images\"\n",
    "val_folder = \"/Users/louis.skowronek/AISS/aiss_images/val/images\"\n",
    "test_folder = \"/Users/louis.skowronek/AISS/aiss_images/test/images\"\n",
    "\n",
    "\n",
    "# Define the path for the output folder\n",
    "output_folder = \"/Users/louis.skowronek/AISS/aiss_images/lego2/JPEGImages\"\n",
    "# Create the output folder if it doesn't exist\n",
    "os.makedirs(output_folder, exist_ok=True)\n",
    "\n",
    "# Process the train folder\n",
    "for filename in os.listdir(train_folder):\n",
    "    if filename.endswith(\".jpeg\"):\n",
    "        # Copy the image file to the output folder\n",
    "        shutil.copy2(os.path.join(train_folder, filename), output_folder)\n",
    "\n",
    "# Process the val folder\n",
    "for filename in os.listdir(val_folder):\n",
    "    if filename.endswith(\".jpeg\"):\n",
    "        # Copy the image file to the output folder\n",
    "        shutil.copy2(os.path.join(val_folder, filename), output_folder)\n",
    "\n",
    "        #print(os.path.splitext(filename)[0])\n",
    "# Process the test folder\n",
    "for filename in os.listdir(test_folder):\n",
    "    if filename.endswith(\".jpeg\"):\n",
    "        # Copy the image file to the output folder\n",
    "        shutil.copy2(os.path.join(test_folder, filename), output_folder)"
   ]
  },
  {
   "cell_type": "code",
   "execution_count": null,
   "id": "81f61637-62a7-49e2-af31-b1cf5b32be39",
   "metadata": {},
   "outputs": [],
   "source": []
  }
 ],
 "metadata": {
  "kernelspec": {
   "display_name": "Python 3 (ipykernel)",
   "language": "python",
   "name": "python3"
  },
  "language_info": {
   "codemirror_mode": {
    "name": "ipython",
    "version": 3
   },
   "file_extension": ".py",
   "mimetype": "text/x-python",
   "name": "python",
   "nbconvert_exporter": "python",
   "pygments_lexer": "ipython3",
   "version": "3.9.7"
  }
 },
 "nbformat": 4,
 "nbformat_minor": 5
}
