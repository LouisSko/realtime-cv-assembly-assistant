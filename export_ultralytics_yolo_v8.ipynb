{
 "cells": [
  {
   "cell_type": "code",
   "execution_count": 3,
   "metadata": {
    "collapsed": true,
    "ExecuteTime": {
     "end_time": "2023-07-04T13:20:56.821171Z",
     "start_time": "2023-07-04T13:20:56.764697Z"
    }
   },
   "outputs": [],
   "source": [
    "from ultralytics import YOLO\n",
    "# Load a model\n",
    "model = YOLO('/Users/louis.skowronek/AISS/trained_models/yolov8n_custom/weights/best.pt')  # load a custom trained"
   ]
  },
  {
   "cell_type": "code",
   "execution_count": null,
   "outputs": [],
   "source": [
    "# Export the model to onnx\n",
    "model.export(format='onnx', opset=15)"
   ],
   "metadata": {
    "collapsed": false
   }
  },
  {
   "cell_type": "code",
   "execution_count": 4,
   "outputs": [
    {
     "name": "stderr",
     "output_type": "stream",
     "text": [
      "Ultralytics YOLOv8.0.112 🚀 Python-3.9.16 torch-2.0.0 CPU\n",
      "Model summary (fused): 168 layers, 3009158 parameters, 0 gradients, 8.1 GFLOPs\n",
      "\n",
      "\u001B[34m\u001B[1mPyTorch:\u001B[0m starting from /Users/louis.skowronek/AISS/trained_models/yolov8n_custom/weights/best.pt with input shape (1, 3, 640, 640) BCHW and output shape(s) (1, 22, 8400) (5.9 MB)\n",
      "\u001B[34m\u001B[1mTensorRT:\u001B[0m export failure ❌ 0.0s: export running on CPU but must be on GPU, i.e. use 'device=0'\n"
     ]
    },
    {
     "data": {
      "text/plain": "[]"
     },
     "execution_count": 4,
     "metadata": {},
     "output_type": "execute_result"
    }
   ],
   "source": [
    "# Export the model to tensorrt\n",
    "model.export(format='engine', opset=15)"
   ],
   "metadata": {
    "collapsed": false,
    "ExecuteTime": {
     "end_time": "2023-07-04T13:20:57.486791Z",
     "start_time": "2023-07-04T13:20:57.156728Z"
    }
   }
  },
  {
   "cell_type": "code",
   "execution_count": null,
   "outputs": [],
   "source": [],
   "metadata": {
    "collapsed": false
   }
  }
 ],
 "metadata": {
  "kernelspec": {
   "display_name": "Python 3",
   "language": "python",
   "name": "python3"
  },
  "language_info": {
   "codemirror_mode": {
    "name": "ipython",
    "version": 2
   },
   "file_extension": ".py",
   "mimetype": "text/x-python",
   "name": "python",
   "nbconvert_exporter": "python",
   "pygments_lexer": "ipython2",
   "version": "2.7.6"
  }
 },
 "nbformat": 4,
 "nbformat_minor": 0
}
